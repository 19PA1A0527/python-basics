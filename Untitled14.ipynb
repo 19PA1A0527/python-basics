{
  "nbformat": 4,
  "nbformat_minor": 0,
  "metadata": {
    "colab": {
      "name": "Untitled14.ipynb",
      "provenance": [],
      "authorship_tag": "ABX9TyNq8GNxy6Fh80GefOAFBxvv",
      "include_colab_link": true
    },
    "kernelspec": {
      "name": "python3",
      "display_name": "Python 3"
    }
  },
  "cells": [
    {
      "cell_type": "markdown",
      "metadata": {
        "id": "view-in-github",
        "colab_type": "text"
      },
      "source": [
        "<a href=\"https://colab.research.google.com/github/19PA1A0527/python-basics/blob/master/Untitled14.ipynb\" target=\"_parent\"><img src=\"https://colab.research.google.com/assets/colab-badge.svg\" alt=\"Open In Colab\"/></a>"
      ]
    },
    {
      "cell_type": "code",
      "metadata": {
        "id": "AcL3k_BlSMPh",
        "colab_type": "code",
        "colab": {
          "base_uri": "https://localhost:8080/",
          "height": 34
        },
        "outputId": "4f6054c6-3a8f-4216-a1ef-20acecd79ca3"
      },
      "source": [
        "\n",
        "import csv\n",
        "import numpy as np\n",
        "from matplotlib import pyplot as plt\n",
        "\n",
        "plt.style.use(\"fivethirtyeight\")\n",
        "with open('IRIS.csv') as csv_file:\n",
        "  csv_reader=csv.DictReader(csv_file)\n",
        "  row=next(csv_reader)\n",
        "  print(row)"
      ],
      "execution_count": 1,
      "outputs": [
        {
          "output_type": "stream",
          "text": [
            "OrderedDict([('sepal_length', '5.1'), ('sepal_width', '3.5'), ('petal_length', '1.4'), ('petal_width', '0.2'), ('species', 'Iris-setosa')])\n"
          ],
          "name": "stdout"
        }
      ]
    },
    {
      "cell_type": "code",
      "metadata": {
        "id": "hWpeQNy8bhh8",
        "colab_type": "code",
        "colab": {
          "base_uri": "https://localhost:8080/",
          "height": 129
        },
        "outputId": "f667ce58-a443-4f1f-e0cb-642ab9945f64"
      },
      "source": [
        "import csv\n",
        "import numpy as np\n",
        "from matplotlib import pyplot as plt\n",
        "\n",
        "plt.style.use(\"fivethirtyeight\")\n",
        "with open('IRIS.csv') as csv_file:\n",
        "  csv_reader=csv.DictReader(csv_file)\n",
        "  row=next(csv_reader)\n",
        "  print(row[petal_length'])"
      ],
      "execution_count": 20,
      "outputs": [
        {
          "output_type": "error",
          "ename": "SyntaxError",
          "evalue": "ignored",
          "traceback": [
            "\u001b[0;36m  File \u001b[0;32m\"<ipython-input-20-2919dbaaae3e>\"\u001b[0;36m, line \u001b[0;32m9\u001b[0m\n\u001b[0;31m    print(row[petal_length'])\u001b[0m\n\u001b[0m                             ^\u001b[0m\n\u001b[0;31mSyntaxError\u001b[0m\u001b[0;31m:\u001b[0m EOL while scanning string literal\n"
          ]
        }
      ]
    },
    {
      "cell_type": "code",
      "metadata": {
        "id": "o4L5tI0Xjcz5",
        "colab_type": "code",
        "colab": {
          "base_uri": "https://localhost:8080/",
          "height": 285
        },
        "outputId": "6694ef72-45c5-4ce2-c5fc-f731b1e7ce70"
      },
      "source": [
        "from matplotlib import pyplot as plt\n",
        "\n",
        "plt.style.use(\"fivethirtyeight\")\n",
        "slices=[120,80]\n",
        "labels=['sixty','forty']\n",
        "plt.pie(slices,labels=labels,wedgeprops={'edgecolor':'black'})\n",
        "plt.title(\"my pie chart\")\n",
        "plt.show()"
      ],
      "execution_count": 15,
      "outputs": [
        {
          "output_type": "display_data",
          "data": {
            "image/png": "[encoded data removed]",
            "text/plain": [
              "<Figure size 432x288 with 1 Axes>"
            ]
          },
          "metadata": {
            "tags": []
          }
        }
      ]
    },
    {
      "cell_type": "code",
      "metadata": {
        "id": "-aEnFS55joYz",
        "colab_type": "code",
        "colab": {
          "base_uri": "https://localhost:8080/",
          "height": 54
        },
        "outputId": "0299d738-13de-4c5d-ad30-925a1acdd5c3"
      },
      "source": [
        "import csv\n",
        "import numpy as np\n",
        "from collections import Counter\n",
        "from matplotlib import pyplot as plt\n",
        "\n",
        "plt.style.use(\"fivethirtyeight\")\n",
        "with open('IRIS.csv') as csv_file:\n",
        "  csv_reader=csv.DictReader(csv_file)\n",
        "  language_counter=Counter()\n",
        "  for row in csv_reader:\n",
        "    language_counter.update(row['sepal_length'].split(';'))\n",
        "print(language_counter)"
      ],
      "execution_count": 25,
      "outputs": [
        {
          "output_type": "stream",
          "text": [
            "Counter({'5': 10, '5.1': 9, '6.3': 9, '5.7': 8, '6.7': 8, '5.8': 7, '5.5': 7, '6.4': 7, '4.9': 6, '5.4': 6, '6': 6, '6.1': 6, '5.6': 6, '4.8': 5, '6.5': 5, '4.6': 4, '5.2': 4, '6.9': 4, '6.2': 4, '7.7': 4, '4.4': 3, '5.9': 3, '6.8': 3, '7.2': 3, '4.7': 2, '6.6': 2, '4.3': 1, '4.5': 1, '5.3': 1, '7': 1, '7.1': 1, '7.6': 1, '7.3': 1, '7.4': 1, '7.9': 1})\n"
          ],
          "name": "stdout"
        }
      ]
    },
    {
      "cell_type": "code",
      "metadata": {
        "id": "gwHEqmYgkNMj",
        "colab_type": "code",
        "colab": {
          "base_uri": "https://localhost:8080/",
          "height": 54
        },
        "outputId": "cfa9b210-646b-49c8-fa84-de168bc5f288"
      },
      "source": [
        "import csv\n",
        "import numpy as np\n",
        "from collections import Counter\n",
        "from matplotlib import pyplot as plt\n",
        "\n",
        "plt.style.use(\"fivethirtyeight\")\n",
        "with open('IRIS.csv') as csv_file:\n",
        "  csv_reader=csv.DictReader(csv_file)\n",
        "  language_counter=Counter()\n",
        "  for row in csv_reader:\n",
        "    language_counter.update(row['sepal_length'].split(';'))\n",
        "print(language_counter.most_common(15))"
      ],
      "execution_count": 26,
      "outputs": [
        {
          "output_type": "stream",
          "text": [
            "[('5', 10), ('5.1', 9), ('6.3', 9), ('5.7', 8), ('6.7', 8), ('5.8', 7), ('5.5', 7), ('6.4', 7), ('4.9', 6), ('5.4', 6), ('6', 6), ('6.1', 6), ('5.6', 6), ('4.8', 5), ('6.5', 5)]\n"
          ],
          "name": "stdout"
        }
      ]
    },
    {
      "cell_type": "code",
      "metadata": {
        "id": "t4F2yJXFkrqn",
        "colab_type": "code",
        "colab": {}
      },
      "source": [
        ""
      ],
      "execution_count": 0,
      "outputs": []
    },
    {
      "cell_type": "code",
      "metadata": {
        "id": "zL688bGKl32M",
        "colab_type": "code",
        "colab": {}
      },
      "source": [
        ""
      ],
      "execution_count": 0,
      "outputs": []
    },
    {
      "cell_type": "code",
      "metadata": {
        "id": "aDABgbc6ibOR",
        "colab_type": "code",
        "colab": {}
      },
      "source": [
        ""
      ],
      "execution_count": 0,
      "outputs": []
    }
  ]
}